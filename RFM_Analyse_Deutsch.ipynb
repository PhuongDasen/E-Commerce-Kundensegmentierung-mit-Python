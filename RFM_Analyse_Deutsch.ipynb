{
 "cells": [
  {
   "cell_type": "code",
   "execution_count": null,
   "id": "946c7181",
   "metadata": {},
   "outputs": [],
   "source": [
    "# Bibliotheken importieren\n",
    "import pandas as pd\n",
    "import numpy as np\n",
    "import matplotlib.pyplot as plt\n",
    "import seaborn as sns\n",
    "from datetime import datetime\n",
    "%matplotlib inline\n"
   ]
  },
  {
   "cell_type": "code",
   "execution_count": null,
   "id": "509e820d",
   "metadata": {},
   "outputs": [],
   "source": [
    "# Datensatz laden\n",
    "df = pd.read_csv('data.csv', encoding='ISO-8859-1')\n",
    "df.head()\n"
   ]
  },
  {
   "cell_type": "code",
   "execution_count": null,
   "id": "b928bef1",
   "metadata": {},
   "outputs": [],
   "source": [
    "# Überblick über die Daten\n",
    "df.info()\n"
   ]
  },
  {
   "cell_type": "code",
   "execution_count": null,
   "id": "c501acd7",
   "metadata": {},
   "outputs": [],
   "source": [
    "# Anzahl fehlender Werte in jeder Spalte anzeigen\n",
    "df.isnull().sum()\n"
   ]
  },
  {
   "cell_type": "code",
   "execution_count": null,
   "id": "28dc74d1",
   "metadata": {},
   "outputs": [],
   "source": [
    "# Zeilen mit fehlenden Werten entfernen\n",
    "df = df.dropna()\n"
   ]
  },
  {
   "cell_type": "code",
   "execution_count": null,
   "id": "a5c445bb",
   "metadata": {},
   "outputs": [],
   "source": [
    "# Entferne alle Transaktionen mit negativen oder null Mengen\n",
    "df = df[df['Quantity'] > 0]\n",
    "df = df[df['UnitPrice'] > 0]\n"
   ]
  },
  {
   "cell_type": "code",
   "execution_count": null,
   "id": "00d47c93",
   "metadata": {},
   "outputs": [],
   "source": [
    "# Eine neue Spalte \"TotalPrice\" berechnen\n",
    "df['TotalPrice'] = df['Quantity'] * df['UnitPrice']\n"
   ]
  },
  {
   "cell_type": "code",
   "execution_count": null,
   "id": "9865a946",
   "metadata": {},
   "outputs": [],
   "source": [
    "# Aktuelles Analyse-Datum festlegen (ein Tag nach dem letzten Transaktionsdatum)\n",
    "now = datetime(2011, 12, 10)\n"
   ]
  },
  {
   "cell_type": "code",
   "execution_count": null,
   "id": "39cc8e32",
   "metadata": {},
   "outputs": [],
   "source": [
    "# RFM (Recency, Frequency, Monetary) für jeden Kunden berechnen\n",
    "rfm = df.groupby('CustomerID').agg({\n",
    "    'InvoiceDate': lambda x: (now - pd.to_datetime(x).max()).days,\n",
    "    'InvoiceNo': 'nunique',\n",
    "    'TotalPrice': 'sum'\n",
    "})\n",
    "rfm.columns = ['Recency', 'Frequency', 'Monetary']\n",
    "rfm.head()\n"
   ]
  },
  {
   "cell_type": "code",
   "execution_count": null,
   "id": "4f71c8ae",
   "metadata": {},
   "outputs": [],
   "source": [
    "# RFM-Werte in Scores umwandeln (1-5)\n",
    "rfm['R'] = pd.qcut(rfm['Recency'], 5, labels=[5,4,3,2,1])\n",
    "rfm['F'] = pd.qcut(rfm['Frequency'].rank(method=\"first\"), 5, labels=[1,2,3,4,5])\n",
    "rfm['M'] = pd.qcut(rfm['Monetary'], 5, labels=[1,2,3,4,5])\n",
    "rfm['RFM_Score'] = rfm['R'].astype(str) + rfm['F'].astype(str) + rfm['M'].astype(str)\n",
    "rfm.head()\n"
   ]
  },
  {
   "cell_type": "code",
   "execution_count": null,
   "id": "c60a58ac",
   "metadata": {},
   "outputs": [],
   "source": [
    "# Einfache Segmentierung basierend auf dem RFM-Score\n",
    "def segment(x):\n",
    "    if x >= 445:\n",
    "        return 'Beste Kunden'\n",
    "    elif x >= 344:\n",
    "        return 'Loyal'\n",
    "    elif x >= 233:\n",
    "        return 'Potenzial'\n",
    "    else:\n",
    "        return 'Risiko'\n",
    "\n",
    "# RFM Score in numerisch konvertieren\n",
    "rfm['RFM_Score_Numeric'] = rfm['RFM_Score'].astype(int)\n",
    "rfm['Segment'] = rfm['RFM_Score_Numeric'].apply(segment)\n",
    "rfm[['RFM_Score', 'Segment']].head()\n"
   ]
  }
 ],
 "metadata": {},
 "nbformat": 4,
 "nbformat_minor": 5
}
